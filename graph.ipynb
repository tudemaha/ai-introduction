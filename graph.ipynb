{
 "cells": [
  {
   "cell_type": "code",
   "execution_count": 57,
   "metadata": {},
   "outputs": [],
   "source": [
    "import numpy as np"
   ]
  },
  {
   "cell_type": "code",
   "execution_count": 58,
   "metadata": {},
   "outputs": [],
   "source": [
    "class Graph:\n",
    "    matrix = []\n",
    "    lists = {}\n",
    "\n",
    "    def __init__(self, vertices):\n",
    "        self.vertices = vertices\n",
    "        Graph.matrix = np.zeros((vertices, vertices), dtype = int)\n",
    "\n",
    "    def add_vertex(self, start, end, weight):\n",
    "        Graph.matrix[start][end] = weight\n",
    "\n",
    "    def BFS(self, start):\n",
    "        start = start - 1\n",
    "        visited = [False] * self.vertices\n",
    "        queue = [start]\n",
    "\n",
    "        visited[start] = True\n",
    "\n",
    "        while queue:\n",
    "            vis = queue[0]\n",
    "\n",
    "            print(vis + 1, end = ' ')\n",
    "            queue.pop(0)\n",
    "\n",
    "            for i in range(self.vertices):\n",
    "                if (Graph.matrix[vis][i] != 0) and (not visited[i]):\n",
    "                    queue.append(i)\n",
    "\n",
    "                    visited[i] = True\n",
    "\n",
    "    def print_matrix(self):\n",
    "        print(Graph.matrix)"
   ]
  },
  {
   "cell_type": "code",
   "execution_count": 59,
   "metadata": {},
   "outputs": [
    {
     "name": "stdout",
     "output_type": "stream",
     "text": [
      "The graph vertices: 4\n"
     ]
    }
   ],
   "source": [
    "vertices = int(input('Insert the number of nodes: '))\n",
    "g = Graph(vertices)\n",
    "print('The graph vertices:', g.vertices)"
   ]
  },
  {
   "cell_type": "code",
   "execution_count": 60,
   "metadata": {},
   "outputs": [
    {
     "name": "stdout",
     "output_type": "stream",
     "text": [
      "The adjacency matrix:\n",
      "[[0 1 1 0]\n",
      " [1 0 0 1]\n",
      " [1 0 0 0]\n",
      " [0 1 0 0]]\n"
     ]
    }
   ],
   "source": [
    "for i in range(g.vertices):\n",
    "    for j in range(g.vertices):\n",
    "        if (i != j):\n",
    "            weight = int(input(f'Insert the edge weight from vertex {i + 1} to {j + 1}: '))\n",
    "            \n",
    "            g.add_vertex(i, j, int(weight))\n",
    "\n",
    "print('The adjacency matrix:')\n",
    "g.print_matrix()"
   ]
  },
  {
   "cell_type": "code",
   "execution_count": 65,
   "metadata": {},
   "outputs": [
    {
     "name": "stdout",
     "output_type": "stream",
     "text": [
      "The BFS traversal:\n",
      "4 2 1 3 "
     ]
    }
   ],
   "source": [
    "start = int(input('Start the BFS traversal from vertex: '))\n",
    "print('The BFS traversal:')\n",
    "g.BFS(start)"
   ]
  }
 ],
 "metadata": {
  "kernelspec": {
   "display_name": "Python 3",
   "language": "python",
   "name": "python3"
  },
  "language_info": {
   "codemirror_mode": {
    "name": "ipython",
    "version": 3
   },
   "file_extension": ".py",
   "mimetype": "text/x-python",
   "name": "python",
   "nbconvert_exporter": "python",
   "pygments_lexer": "ipython3",
   "version": "3.10.0"
  },
  "orig_nbformat": 4,
  "vscode": {
   "interpreter": {
    "hash": "446ae48daf2362edcbf106ac448fd6ca12cd325cee736aa90a71ddedb7a48782"
   }
  }
 },
 "nbformat": 4,
 "nbformat_minor": 2
}
