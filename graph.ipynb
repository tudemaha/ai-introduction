{
 "cells": [
  {
   "cell_type": "code",
   "execution_count": 1,
   "metadata": {},
   "outputs": [],
   "source": [
    "import numpy as np"
   ]
  },
  {
   "cell_type": "code",
   "execution_count": 39,
   "metadata": {},
   "outputs": [],
   "source": [
    "class Graph:\n",
    "    matrix = []\n",
    "    lists = {}\n",
    "\n",
    "    def __init__(self, vertices):\n",
    "        self.vertices = vertices\n",
    "        Graph.matrix = np.zeros((vertices, vertices), dtype = int)\n",
    "\n",
    "    def add_vertex(self, start, end, weight):\n",
    "        Graph.matrix[start][end] = weight\n",
    "\n",
    "    def BFS(self, start):\n",
    "        visited = [False] * self.vertices\n",
    "        queue = [start]\n",
    "\n",
    "        visited[start] = True\n",
    "\n",
    "        while queue:\n",
    "            vis = queue[0]\n",
    "\n",
    "            print(vis, end = ' ')\n",
    "            queue.pop(0)\n",
    "\n",
    "            for i in range(self.vertices):\n",
    "                if (Graph.matrix[vis][i] != 0) and (not visited):\n",
    "                    queue.append(i)\n",
    "\n",
    "                    visited[i] = True\n",
    "\n",
    "    def print_matrix(self):\n",
    "        print(Graph.matrix)"
   ]
  },
  {
   "cell_type": "code",
   "execution_count": 41,
   "metadata": {},
   "outputs": [],
   "source": [
    "vertices = int(input('Insert the number of nodes: '))\n",
    "g = Graph(vertices)\n",
    "print('The graph vertices:', g.vertices)"
   ]
  },
  {
   "cell_type": "code",
   "execution_count": null,
   "metadata": {},
   "outputs": [],
   "source": [
    "for i in range(g.vertices):\n",
    "    vertex_weight = input(f'Insert (vertex,weight) connected to vertex {i + 1} separated with space: ')\n",
    "    vertex_weight = vertex_weight.split(' ')\n",
    "    for couple in vertex_weight:\n",
    "        new_couple = couple.replace('(', '')\n",
    "        new_couple = new_couple.replace(')', '')\n",
    "        vertex, weight = new_couple.split(',')\n",
    "        \n",
    "        g.add_vertex(i, int(vertex) - 1, int(weight))\n",
    "\n",
    "g.print_matrix()\n",
    "g.BFS()"
   ]
  }
 ],
 "metadata": {
  "kernelspec": {
   "display_name": "Python 3",
   "language": "python",
   "name": "python3"
  },
  "language_info": {
   "codemirror_mode": {
    "name": "ipython",
    "version": 3
   },
   "file_extension": ".py",
   "mimetype": "text/x-python",
   "name": "python",
   "nbconvert_exporter": "python",
   "pygments_lexer": "ipython3",
   "version": "3.10.0"
  },
  "orig_nbformat": 4,
  "vscode": {
   "interpreter": {
    "hash": "446ae48daf2362edcbf106ac448fd6ca12cd325cee736aa90a71ddedb7a48782"
   }
  }
 },
 "nbformat": 4,
 "nbformat_minor": 2
}
