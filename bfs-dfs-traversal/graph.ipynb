{
 "cells": [
  {
   "attachments": {},
   "cell_type": "markdown",
   "metadata": {},
   "source": [
    "### Import Library"
   ]
  },
  {
   "cell_type": "code",
   "execution_count": 1,
   "metadata": {},
   "outputs": [],
   "source": [
    "# numpy used to make zero matrix\n",
    "import numpy as np"
   ]
  },
  {
   "attachments": {},
   "cell_type": "markdown",
   "metadata": {},
   "source": [
    "### Create Graph Class\n",
    "Graph class used to manage the adjacency matrix and list from a graph."
   ]
  },
  {
   "cell_type": "code",
   "execution_count": 2,
   "metadata": {},
   "outputs": [],
   "source": [
    "class Graph:\n",
    "    # empty matrix (list) and list (dictionary)\n",
    "    matrix = []\n",
    "    lists = {}\n",
    "\n",
    "    # constructor method to register the vertices\n",
    "    def __init__(self, vertices):\n",
    "        self.vertices = vertices\n",
    "        # create zero matrix for adjacency matrix\n",
    "        Graph.matrix = np.zeros((vertices, vertices), dtype = int)\\\n",
    "        # create empty dictionary for adjacency list\n",
    "        for i in range(vertices):\n",
    "            Graph.lists[i + 1] = []\n",
    "\n",
    "    # method to add the vertices and its edge weight\n",
    "    def add_vertex(self, start, end, weight):\n",
    "        Graph.matrix[start][end] = weight\n",
    "\n",
    "    # method to create adjacency list from the adjacency matrix that has been made\n",
    "    def create_list(self):\n",
    "        # loop the matrix's row\n",
    "        for i in range(self.vertices):\n",
    "            # loop the matrix's column\n",
    "            for j in range(self.vertices):\n",
    "                # if there's any edge (the weight more than 0)\n",
    "                if self.matrix[i][j] != 0:\n",
    "                    # create list based the current vertex\n",
    "                    self.lists[i + 1].append((j + 1, self.matrix[i][j]))\n",
    "\n",
    "    # method for BFS traversal\n",
    "    def BFS(self, start):\n",
    "        # starting point (root) of traversal\n",
    "        start = start - 1\n",
    "        # create visited list to mark the visited vertex (false == not visited)\n",
    "        visited = [False] * self.vertices\n",
    "        # create queue and enqueue the first vertex\n",
    "        queue = [start]\n",
    "\n",
    "        # mark the first vertex as visited\n",
    "        visited[start] = True\n",
    "\n",
    "        # while the queue not empty\n",
    "        while queue:\n",
    "            # take the first element of queue as the current visited vertex\n",
    "            vis = queue[0]\n",
    "\n",
    "            # print the visited vertex\n",
    "            print(vis + 1, end = ' ')\n",
    "            # dequeue the visited vertex\n",
    "            queue.pop(0)\n",
    "\n",
    "            # traverse the vertex connected with the current visited vertex\n",
    "            for i in range(self.vertices):\n",
    "                # if there's a vertex connected (weight more than 0) and not visited yet\n",
    "                if (Graph.matrix[vis][i] != 0) and (not visited[i]):\n",
    "                    # enqueue it to the queue\n",
    "                    queue.append(i)\n",
    "\n",
    "                    # and mark the enqueued vertex as visited\n",
    "                    visited[i] = True\n",
    "\n",
    "    # method for DFS traversal\n",
    "    def DFS(self, start, visited):\n",
    "        # print the starting point vertex (root) first\n",
    "        print(start + 1, end = ' ')\n",
    "        # mark the 'start' vertex as visited\n",
    "        visited[start] = True\n",
    "\n",
    "        # traverse the vertex connected with the current visited vertex\n",
    "        for i in range(self.vertices):\n",
    "            # if there's a vertex connected (weight more than 0) and not visited yet\n",
    "            if (Graph.matrix[start][i] != 0) and (not visited[i]):\n",
    "                # call the DFS method to do recursive and use the current vertex as root\n",
    "                self.DFS(i, visited)\n",
    "\n",
    "    # method to print the adjacency matrix\n",
    "    def print_matrix(self):\n",
    "        print(Graph.matrix)\n",
    "\n",
    "    # method to print the adjacency list\n",
    "    def print_list(self):\n",
    "        self.create_list()\n",
    "        for l in self.lists:\n",
    "            print(l, ': ', self.lists[l])"
   ]
  },
  {
   "attachments": {},
   "cell_type": "markdown",
   "metadata": {},
   "source": [
    "### Insert the Informations of A Graph"
   ]
  },
  {
   "cell_type": "code",
   "execution_count": 3,
   "metadata": {},
   "outputs": [
    {
     "name": "stdout",
     "output_type": "stream",
     "text": [
      "The graph vertices: 7\n"
     ]
    }
   ],
   "source": [
    "# insert the number of vertices of a user's graph\n",
    "vertices = int(input('Insert the number of vertices: '))\n",
    "# create a graph object with n vertices\n",
    "g = Graph(vertices)\n",
    "# show the number of graph's vertices\n",
    "print('The graph vertices:', g.vertices)"
   ]
  },
  {
   "cell_type": "code",
   "execution_count": 6,
   "metadata": {},
   "outputs": [
    {
     "name": "stdout",
     "output_type": "stream",
     "text": [
      "The adjacency matrix:\n",
      "[[ 0  3  0  0  0 12  0]\n",
      " [ 3  0  5  0  0  0  4]\n",
      " [ 0  5  0  6  0  0  3]\n",
      " [ 0  0  6  0  1  0  0]\n",
      " [ 0  0  0  1  0 10  7]\n",
      " [12  0  0  0 10  0  2]\n",
      " [ 0  4  3  0  7  2  0]]\n",
      "\n",
      "The adjacency list:\n",
      "1 :  [(2, 3), (6, 12)]\n",
      "2 :  [(1, 3), (3, 5), (7, 4)]\n",
      "3 :  [(2, 5), (4, 6), (7, 3)]\n",
      "4 :  [(3, 6), (5, 1)]\n",
      "5 :  [(4, 1), (6, 10), (7, 7)]\n",
      "6 :  [(1, 12), (5, 10), (7, 2)]\n",
      "7 :  [(2, 4), (3, 3), (5, 7), (6, 2)]\n"
     ]
    }
   ],
   "source": [
    "# make loop for the matrix's row\n",
    "for i in range(g.vertices):\n",
    "    # make loop for the matrix's column\n",
    "    for j in range(g.vertices):\n",
    "        # if the row and column index not equal (not in diagonal)\n",
    "        if (i != j):\n",
    "            # insert the weight of an edge that connect 2 vertex\n",
    "            weight = int(input(f'Insert the edge weight from vertex {i + 1} to {j + 1}: '))\n",
    "            \n",
    "            # add the vertex and weight to the graph object\n",
    "            g.add_vertex(i, j, int(weight))\n",
    "\n",
    "# show the adjacency matrix\n",
    "print('The adjacency matrix:')\n",
    "g.print_matrix()\n",
    "\n",
    "# show the adjacency list\n",
    "print('\\nThe adjacency list:')\n",
    "g.print_list()"
   ]
  },
  {
   "attachments": {},
   "cell_type": "markdown",
   "metadata": {},
   "source": [
    "### The BFS and DFS Traversal"
   ]
  },
  {
   "cell_type": "code",
   "execution_count": 7,
   "metadata": {},
   "outputs": [
    {
     "name": "stdout",
     "output_type": "stream",
     "text": [
      "The BFS traversal:\n",
      "1 2 6 3 7 5 4 "
     ]
    }
   ],
   "source": [
    "# insert the starting point of traversal\n",
    "start = int(input('Start the BFS traversal from vertex: '))\n",
    "# show the BFS traversal\n",
    "print('The BFS traversal:')\n",
    "g.BFS(start)"
   ]
  },
  {
   "cell_type": "code",
   "execution_count": 8,
   "metadata": {},
   "outputs": [
    {
     "name": "stdout",
     "output_type": "stream",
     "text": [
      "The DFS traversal:\n",
      "1 2 3 4 5 6 7 "
     ]
    }
   ],
   "source": [
    "# insert the starting point of traversal\n",
    "start = int(input('Start the DFS traversal from vertex: '))\n",
    "# show the DFS traversal\n",
    "print('The DFS traversal:')\n",
    "g.DFS(start - 1, [False] * g.vertices)"
   ]
  }
 ],
 "metadata": {
  "kernelspec": {
   "display_name": "Python 3",
   "language": "python",
   "name": "python3"
  },
  "language_info": {
   "codemirror_mode": {
    "name": "ipython",
    "version": 3
   },
   "file_extension": ".py",
   "mimetype": "text/x-python",
   "name": "python",
   "nbconvert_exporter": "python",
   "pygments_lexer": "ipython3",
   "version": "3.11.0"
  },
  "orig_nbformat": 4,
  "vscode": {
   "interpreter": {
    "hash": "446ae48daf2362edcbf106ac448fd6ca12cd325cee736aa90a71ddedb7a48782"
   }
  }
 },
 "nbformat": 4,
 "nbformat_minor": 2
}
