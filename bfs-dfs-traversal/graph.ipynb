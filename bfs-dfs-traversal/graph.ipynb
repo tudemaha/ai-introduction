{
 "cells": [
  {
   "cell_type": "code",
   "execution_count": null,
   "metadata": {},
   "outputs": [],
   "source": [
    "import numpy as np"
   ]
  },
  {
   "cell_type": "code",
   "execution_count": null,
   "metadata": {},
   "outputs": [],
   "source": [
    "class Graph:\n",
    "    matrix = []\n",
    "    lists = {}\n",
    "\n",
    "    def __init__(self, vertices):\n",
    "        self.vertices = vertices\n",
    "        Graph.matrix = np.zeros((vertices, vertices), dtype = int)\n",
    "        for i in range(vertices):\n",
    "            Graph.lists[i + 1] = []\n",
    "\n",
    "    def add_vertex(self, start, end, weight):\n",
    "        Graph.matrix[start][end] = weight\n",
    "\n",
    "    def create_list(self):\n",
    "        for i in range(self.vertices):\n",
    "            for j in range(self.vertices):\n",
    "                if self.matrix[i][j] != 0:\n",
    "                    self.lists[i + 1].append((j + 1, self.matrix[i][j]))\n",
    "\n",
    "    def BFS(self, start):\n",
    "        start = start - 1\n",
    "        visited = [False] * self.vertices\n",
    "        queue = [start]\n",
    "\n",
    "        visited[start] = True\n",
    "\n",
    "        while queue:\n",
    "            vis = queue[0]\n",
    "\n",
    "            print(vis + 1, end = ' ')\n",
    "            queue.pop(0)\n",
    "\n",
    "            for i in range(self.vertices):\n",
    "                if (Graph.matrix[vis][i] != 0) and (not visited[i]):\n",
    "                    queue.append(i)\n",
    "\n",
    "                    visited[i] = True\n",
    "\n",
    "    def DFS(self, start, visited):\n",
    "        print(start + 1, end = ' ')\n",
    "        visited[start] = True\n",
    "\n",
    "        for i in range(self.vertices):\n",
    "            if (Graph.matrix[start][i] == 1) and (not visited[i]):\n",
    "                self.DFS(i, visited)\n",
    "\n",
    "    def print_matrix(self):\n",
    "        print(Graph.matrix)\n",
    "\n",
    "    def print_list(self):\n",
    "        self.create_list()\n",
    "        for l in self.lists:\n",
    "            print(l, ': ', self.lists[l])"
   ]
  },
  {
   "cell_type": "code",
   "execution_count": null,
   "metadata": {},
   "outputs": [],
   "source": [
    "vertices = int(input('Insert the number of nodes: '))\n",
    "g = Graph(vertices)\n",
    "print('The graph vertices:', g.vertices)"
   ]
  },
  {
   "cell_type": "code",
   "execution_count": null,
   "metadata": {},
   "outputs": [],
   "source": [
    "for i in range(g.vertices):\n",
    "    for j in range(g.vertices):\n",
    "        if (i != j):\n",
    "            weight = int(input(f'Insert the edge weight from vertex {i + 1} to {j + 1}: '))\n",
    "            \n",
    "            g.add_vertex(i, j, int(weight))\n",
    "\n",
    "print('The adjacency matrix:')\n",
    "g.print_matrix()\n",
    "\n",
    "print('\\nThe adjacency list:')\n",
    "g.print_list()"
   ]
  },
  {
   "cell_type": "code",
   "execution_count": null,
   "metadata": {},
   "outputs": [],
   "source": [
    "start = int(input('Start the BFS traversal from vertex: '))\n",
    "print('The BFS traversal:')\n",
    "g.BFS(start)"
   ]
  },
  {
   "cell_type": "code",
   "execution_count": null,
   "metadata": {},
   "outputs": [],
   "source": [
    "start = int(input('Start the DFS traversal from vertex: '))\n",
    "print('The DFS traversal:')\n",
    "g.DFS(start - 1, [False] * g.vertices)"
   ]
  }
 ],
 "metadata": {
  "kernelspec": {
   "display_name": "Python 3",
   "language": "python",
   "name": "python3"
  },
  "language_info": {
   "codemirror_mode": {
    "name": "ipython",
    "version": 3
   },
   "file_extension": ".py",
   "mimetype": "text/x-python",
   "name": "python",
   "nbconvert_exporter": "python",
   "pygments_lexer": "ipython3",
   "version": "3.10.0"
  },
  "orig_nbformat": 4,
  "vscode": {
   "interpreter": {
    "hash": "446ae48daf2362edcbf106ac448fd6ca12cd325cee736aa90a71ddedb7a48782"
   }
  }
 },
 "nbformat": 4,
 "nbformat_minor": 2
}
