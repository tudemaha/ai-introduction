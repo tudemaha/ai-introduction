{
 "cells": [
  {
   "cell_type": "code",
   "execution_count": 52,
   "metadata": {},
   "outputs": [],
   "source": [
    "# the start state\n",
    "start_state = {\n",
    "    'wolf': 0,\n",
    "    'goat': 0,\n",
    "    'cabbage': 0,\n",
    "    'boat': 0\n",
    "}\n",
    "\n",
    "# the goal state\n",
    "goal_state = {\n",
    "    'wolf': 1,\n",
    "    'goat': 1,\n",
    "    'cabbage': 1,\n",
    "    'boat': 1\n",
    "}"
   ]
  },
  {
   "cell_type": "code",
   "execution_count": 53,
   "metadata": {},
   "outputs": [],
   "source": [
    "# function to check the validity of a state\n",
    "def is_valid(state):\n",
    "    # if the goat and cabbage at the same side\n",
    "    # and no boat (farmer) there -> not valid\n",
    "    goat_eats_cabbage = (\n",
    "        state['goat'] == state['cabbage']\n",
    "        and state['boat'] != state['goat']\n",
    "    )\n",
    "\n",
    "    # if the wolf and goat at the same side\n",
    "    #and no boat (farmer) there -> not valid\n",
    "    wolf_eats_goat = (\n",
    "        state['wolf'] == state['goat']\n",
    "        and state['boat'] != state['wolf']\n",
    "    )\n",
    "\n",
    "    # make the invalid status\n",
    "    invalid = goat_eats_cabbage or wolf_eats_goat\n",
    "\n",
    "    # return the validity stats\n",
    "    return not invalid"
   ]
  },
  {
   "cell_type": "code",
   "execution_count": 54,
   "metadata": {},
   "outputs": [],
   "source": [
    "# function to search the next vertices (states) from the current vertex\n",
    "def next_state(current_state):\n",
    "    # if the current state of boat in 0 side\n",
    "    if current_state['boat'] == 0:\n",
    "        # the next state of boat is in 1 side\n",
    "        next_boat = 1\n",
    "    else:\n",
    "        # else make it on 0 side\n",
    "        next_boat = 0\n",
    "\n",
    "    # create a copy of current state dict\n",
    "    original_next_state = current_state.copy()\n",
    "    # change the state of the boat\n",
    "    original_next_state['boat'] = next_boat\n",
    "\n",
    "    # create the candidates of the next states\n",
    "    candidates = [original_next_state]\n",
    "\n",
    "    # iterate the loads to get the next possible state\n",
    "    for thing in ['wolf', 'goat', 'cabbage']:\n",
    "        # if the current state of the load is the same of current state of boat\n",
    "        if current_state[thing] == current_state['boat']:\n",
    "            # create the copy of original_next_state to make the load's next state\n",
    "            next_state = original_next_state.copy()\n",
    "            # change the next_state of the load to the next state of boat\n",
    "            next_state[thing] = next_boat\n",
    "            # append it to the candidates of next state\n",
    "            candidates.append(next_state)\n",
    "    \n",
    "    # print(candidates)\n",
    "\n",
    "    # filter the candidates using is_valid function and return just the valid state\n",
    "    yield from filter(is_valid, candidates)"
   ]
  },
  {
   "cell_type": "code",
   "execution_count": 55,
   "metadata": {},
   "outputs": [],
   "source": [
    "# function to do BFS traversal to solve the WGC puzzle\n",
    "def BFS(start, goal, get_neighbors):\n",
    "    # create a dict to store the root vertex\n",
    "    parent = {}\n",
    "    # create a set to store the visited vertex\n",
    "    visited = set()\n",
    "    # add the start vertex (state) to the visited set\n",
    "    visited.add(tuple(start.items()))\n",
    "    # create a queue to store the next vertex to visit, add the start vertex first\n",
    "    queue = [start]\n",
    "\n",
    "    # while the queue not empty\n",
    "    while queue:\n",
    "        # visit the first element as current visited vertex\n",
    "        current_vertex = queue.pop(0)\n",
    "\n",
    "        # if the current vertex is the goal\n",
    "        if current_vertex == goal:\n",
    "            # create empty list to store the path\n",
    "            path = []\n",
    "            # while current vertex not null\n",
    "            while current_vertex is not None:\n",
    "                # insert the current vertex as the first element to path\n",
    "                path.insert(0, current_vertex)\n",
    "                # update the current vertex with the next path vertex\n",
    "                current_vertex = parent.get(tuple(current_vertex.items()))\n",
    "\n",
    "            # return the path\n",
    "            return path\n",
    "        \n",
    "        # iterate the neighbors of the current vertex\n",
    "        for neighbor in get_neighbors(current_vertex):\n",
    "            # convert the neighbor dict to tuple\n",
    "            neighbor_tuple = tuple(neighbor.items())\n",
    "            # if the current neighbor not visited yet\n",
    "            if neighbor_tuple not in visited:\n",
    "                # add the current neighbor to visited set\n",
    "                visited.add(neighbor_tuple)\n",
    "                # the current neighbor's parent is the current vertex\n",
    "                parent[neighbor_tuple] = current_vertex\n",
    "                # append the current neighbor to queue\n",
    "                queue.append(neighbor)"
   ]
  },
  {
   "cell_type": "code",
   "execution_count": 56,
   "metadata": {},
   "outputs": [
    {
     "data": {
      "text/plain": [
       "[{'wolf': 0, 'goat': 0, 'cabbage': 0, 'boat': 0},\n",
       " {'wolf': 0, 'goat': 1, 'cabbage': 0, 'boat': 1},\n",
       " {'wolf': 0, 'goat': 1, 'cabbage': 0, 'boat': 0},\n",
       " {'wolf': 1, 'goat': 1, 'cabbage': 0, 'boat': 1},\n",
       " {'wolf': 1, 'goat': 0, 'cabbage': 0, 'boat': 0},\n",
       " {'wolf': 1, 'goat': 0, 'cabbage': 1, 'boat': 1},\n",
       " {'wolf': 1, 'goat': 0, 'cabbage': 1, 'boat': 0},\n",
       " {'wolf': 1, 'goat': 1, 'cabbage': 1, 'boat': 1}]"
      ]
     },
     "execution_count": 56,
     "metadata": {},
     "output_type": "execute_result"
    }
   ],
   "source": [
    "# start the BFS traversal\n",
    "BFS(start_state, goal_state, next_state)"
   ]
  }
 ],
 "metadata": {
  "kernelspec": {
   "display_name": "Python 3",
   "language": "python",
   "name": "python3"
  },
  "language_info": {
   "codemirror_mode": {
    "name": "ipython",
    "version": 3
   },
   "file_extension": ".py",
   "mimetype": "text/x-python",
   "name": "python",
   "nbconvert_exporter": "python",
   "pygments_lexer": "ipython3",
   "version": "3.11.2"
  },
  "orig_nbformat": 4
 },
 "nbformat": 4,
 "nbformat_minor": 2
}
