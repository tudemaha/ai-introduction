{
 "cells": [
  {
   "cell_type": "code",
   "execution_count": 46,
   "metadata": {},
   "outputs": [],
   "source": [
    "start_state = {\n",
    "    'wolf': 0,\n",
    "    'goat': 0,\n",
    "    'cabbage': 0,\n",
    "    'boat': 0\n",
    "}\n",
    "\n",
    "goal_state = {\n",
    "    'wolf': 1,\n",
    "    'goat': 1,\n",
    "    'cabbage': 1,\n",
    "    'boat': 1\n",
    "}"
   ]
  },
  {
   "cell_type": "code",
   "execution_count": 47,
   "metadata": {},
   "outputs": [],
   "source": [
    "def is_valid(state):\n",
    "    goat_eats_cabbage = (\n",
    "        state['goat'] == state['cabbage']\n",
    "        and state['boat'] != state['goat']\n",
    "    )\n",
    "\n",
    "    wolf_eats_goat = (\n",
    "        state['wolf'] == state['goat']\n",
    "        and state['boat'] != state['wolf']\n",
    "    )\n",
    "\n",
    "    invalid = goat_eats_cabbage or wolf_eats_goat\n",
    "\n",
    "    return not invalid"
   ]
  },
  {
   "cell_type": "code",
   "execution_count": 48,
   "metadata": {},
   "outputs": [],
   "source": [
    "def next_state(current_vertex):\n",
    "    if current_vertex['boat'] == 0:\n",
    "        next_boat = 1\n",
    "    else:\n",
    "        next_boat = 0\n",
    "\n",
    "    original_next_state = current_vertex.copy()\n",
    "    original_next_state['boat'] = next_boat\n",
    "\n",
    "    candidates = [original_next_state]\n",
    "\n",
    "    for thing in ['wolf', 'goat', 'cabbage']:\n",
    "        if current_vertex[thing] == current_vertex['boat']:\n",
    "            next_state = original_next_state.copy()\n",
    "            next_state[thing] = next_boat\n",
    "            candidates.append(next_state)\n",
    "    \n",
    "    # print(candidates)\n",
    "\n",
    "    yield from filter(is_valid, candidates)"
   ]
  },
  {
   "cell_type": "code",
   "execution_count": 49,
   "metadata": {},
   "outputs": [],
   "source": [
    "def BFS(start, goal, get_neighbors):\n",
    "    parent = {}\n",
    "    visited = set()\n",
    "    visited.add(tuple(start.items()))\n",
    "    queue = [start]\n",
    "\n",
    "    while queue:\n",
    "        current_vertex = queue.pop(0)\n",
    "\n",
    "        if current_vertex == goal:\n",
    "            path = []\n",
    "            while current_vertex is not None:\n",
    "                path.insert(0, current_vertex)\n",
    "                current_vertex = parent.get(tuple(current_vertex.items()))\n",
    "\n",
    "            return path\n",
    "        \n",
    "        for neighbor in get_neighbors(current_vertex):\n",
    "            # print(neighbor)\n",
    "            neighbor_tuple = tuple(neighbor.items())\n",
    "            if neighbor_tuple not in visited:\n",
    "                visited.add(neighbor_tuple)\n",
    "                parent[neighbor_tuple] = current_vertex\n",
    "                queue.append(neighbor)\n",
    "\n"
   ]
  },
  {
   "cell_type": "code",
   "execution_count": 50,
   "metadata": {},
   "outputs": [
    {
     "data": {
      "text/plain": [
       "[{'wolf': 0, 'goat': 0, 'cabbage': 0, 'boat': 0},\n",
       " {'wolf': 0, 'goat': 1, 'cabbage': 0, 'boat': 1},\n",
       " {'wolf': 0, 'goat': 1, 'cabbage': 0, 'boat': 0},\n",
       " {'wolf': 1, 'goat': 1, 'cabbage': 0, 'boat': 1},\n",
       " {'wolf': 1, 'goat': 0, 'cabbage': 0, 'boat': 0},\n",
       " {'wolf': 1, 'goat': 0, 'cabbage': 1, 'boat': 1},\n",
       " {'wolf': 1, 'goat': 0, 'cabbage': 1, 'boat': 0},\n",
       " {'wolf': 1, 'goat': 1, 'cabbage': 1, 'boat': 1}]"
      ]
     },
     "execution_count": 50,
     "metadata": {},
     "output_type": "execute_result"
    }
   ],
   "source": [
    "BFS(start_state, goal_state, next_state)"
   ]
  }
 ],
 "metadata": {
  "kernelspec": {
   "display_name": "Python 3",
   "language": "python",
   "name": "python3"
  },
  "language_info": {
   "codemirror_mode": {
    "name": "ipython",
    "version": 3
   },
   "file_extension": ".py",
   "mimetype": "text/x-python",
   "name": "python",
   "nbconvert_exporter": "python",
   "pygments_lexer": "ipython3",
   "version": "3.11.2"
  },
  "orig_nbformat": 4
 },
 "nbformat": 4,
 "nbformat_minor": 2
}
