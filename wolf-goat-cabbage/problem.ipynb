{
 "cells": [
  {
   "cell_type": "code",
   "execution_count": 2,
   "metadata": {},
   "outputs": [],
   "source": [
    "from enum import Enum\n",
    "from collections import namedtuple\n",
    "from functools import partial"
   ]
  },
  {
   "cell_type": "code",
   "execution_count": 3,
   "metadata": {},
   "outputs": [],
   "source": [
    "def BFS(*, start, is_goal, get_neighbors):\n",
    "    parent = {}\n",
    "    to_visit = [start]\n",
    "    discovered = set([start])\n",
    "\n",
    "    while to_visit:\n",
    "        vertex = to_visit.pop(0)\n",
    "\n",
    "        if is_goal(vertex):\n",
    "            path = []\n",
    "            while vertex is not None:\n",
    "                path.insert(0, vertex)\n",
    "                vertex = parent.get(vertex)\n",
    "            \n",
    "            return path\n",
    "        \n",
    "        for neighbor in get_neighbors(vertex):\n",
    "            if neighbor not in discovered:\n",
    "                discovered.add(neighbor)\n",
    "                parent[neighbor] = vertex\n",
    "                to_visit.append(neighbor)"
   ]
  },
  {
   "cell_type": "code",
   "execution_count": 4,
   "metadata": {},
   "outputs": [],
   "source": [
    "State = namedtuple(\"State\", [\"man\", \"cabbage\", \"goat\", \"wolf\"])\n",
    "Location = Enum(\"Location\", [\"A\", \"B\"])"
   ]
  },
  {
   "cell_type": "code",
   "execution_count": 5,
   "metadata": {},
   "outputs": [],
   "source": [
    "start_state = State(\n",
    "    man = Location.A,\n",
    "    cabbage = Location.A,\n",
    "    goat = Location.A,\n",
    "    wolf = Location.A\n",
    ")\n",
    "\n",
    "goal_state = State(\n",
    "    man = Location.B,\n",
    "    cabbage = Location.B,\n",
    "    goat = Location.B,\n",
    "    wolf = Location.B\n",
    ")"
   ]
  },
  {
   "cell_type": "code",
   "execution_count": 6,
   "metadata": {},
   "outputs": [],
   "source": [
    "def is_valid(state):\n",
    "    goat_eats_cabage = (\n",
    "        state.goat == state.cabbage\n",
    "        and state.man != state.goat\n",
    "    )\n",
    "\n",
    "    wolf_eats_goat = (\n",
    "        state.wolf == state.goat\n",
    "        and state.man != state.wolf\n",
    "    )\n",
    "\n",
    "    invalid = goat_eats_cabage or wolf_eats_goat\n",
    "    \n",
    "    return not invalid"
   ]
  },
  {
   "cell_type": "code",
   "execution_count": 7,
   "metadata": {},
   "outputs": [],
   "source": [
    "def next_states(state):\n",
    "    if state.man == Location.A:\n",
    "        other_side = Location.B\n",
    "    else:\n",
    "        other_side = Location.A\n",
    "\n",
    "    move = partial(state._replace, man = other_side)\n",
    "\n",
    "    candidates = [move()]\n",
    "\n",
    "    for thing in [\"cabbage\", \"goat\", \"wolf\"]:\n",
    "        if getattr(state, thing) == state.man:\n",
    "            candidates.append(move(**{thing: other_side}))\n",
    "\n",
    "    yield from filter(is_valid, candidates)"
   ]
  },
  {
   "cell_type": "code",
   "execution_count": 8,
   "metadata": {},
   "outputs": [
    {
     "data": {
      "text/plain": [
       "[State(man=<Location.A: 1>, cabbage=<Location.A: 1>, goat=<Location.A: 1>, wolf=<Location.A: 1>),\n",
       " State(man=<Location.B: 2>, cabbage=<Location.A: 1>, goat=<Location.B: 2>, wolf=<Location.A: 1>),\n",
       " State(man=<Location.A: 1>, cabbage=<Location.A: 1>, goat=<Location.B: 2>, wolf=<Location.A: 1>),\n",
       " State(man=<Location.B: 2>, cabbage=<Location.B: 2>, goat=<Location.B: 2>, wolf=<Location.A: 1>),\n",
       " State(man=<Location.A: 1>, cabbage=<Location.B: 2>, goat=<Location.A: 1>, wolf=<Location.A: 1>),\n",
       " State(man=<Location.B: 2>, cabbage=<Location.B: 2>, goat=<Location.A: 1>, wolf=<Location.B: 2>),\n",
       " State(man=<Location.A: 1>, cabbage=<Location.B: 2>, goat=<Location.A: 1>, wolf=<Location.B: 2>),\n",
       " State(man=<Location.B: 2>, cabbage=<Location.B: 2>, goat=<Location.B: 2>, wolf=<Location.B: 2>)]"
      ]
     },
     "execution_count": 8,
     "metadata": {},
     "output_type": "execute_result"
    }
   ],
   "source": [
    "BFS(\n",
    "    start = start_state,\n",
    "    is_goal = goal_state.__eq__,\n",
    "    get_neighbors = next_states\n",
    ")"
   ]
  },
  {
   "cell_type": "code",
   "execution_count": null,
   "metadata": {},
   "outputs": [],
   "source": [
    "def describe_solutions(path):\n",
    "    for old, new in zip(path, path[1:]):\n",
    "        boat = [thing for thing in [\"man\", \"cabbage\", \"goat\", \"wolf\"]\n",
    "                if getattr(old, thing) != getattr(new, thing)    \n",
    "            ]\n",
    "        \n",
    "        print(old.man, \"to\", new.man, boat)"
   ]
  }
 ],
 "metadata": {
  "kernelspec": {
   "display_name": "Python 3",
   "language": "python",
   "name": "python3"
  },
  "language_info": {
   "codemirror_mode": {
    "name": "ipython",
    "version": 3
   },
   "file_extension": ".py",
   "mimetype": "text/x-python",
   "name": "python",
   "nbconvert_exporter": "python",
   "pygments_lexer": "ipython3",
   "version": "3.11.2"
  },
  "orig_nbformat": 4
 },
 "nbformat": 4,
 "nbformat_minor": 2
}
