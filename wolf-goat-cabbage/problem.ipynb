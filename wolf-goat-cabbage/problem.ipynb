{
 "cells": [
  {
   "cell_type": "code",
   "execution_count": 82,
   "metadata": {},
   "outputs": [],
   "source": [
    "from enum import Enum\n",
    "from collections import namedtuple\n",
    "from functools import partial"
   ]
  },
  {
   "cell_type": "code",
   "execution_count": 83,
   "metadata": {},
   "outputs": [],
   "source": [
    "def BFS(*, start, is_goal, get_neighbors):\n",
    "    parent = {}\n",
    "    to_visit = [start]\n",
    "    discovered = set([start])\n",
    "\n",
    "    while to_visit:\n",
    "        vertex = to_visit.pop(0)\n",
    "\n",
    "        if is_goal(vertex):\n",
    "            path = []\n",
    "            while vertex is not None:\n",
    "                path.insert(0, vertex)\n",
    "                vertex = parent.get(vertex)\n",
    "                # print(path, vertex)\n",
    "            \n",
    "            return path\n",
    "        \n",
    "        for neighbor in get_neighbors(vertex):\n",
    "            # print('\\n')\n",
    "            if neighbor not in discovered:\n",
    "                discovered.add(neighbor)\n",
    "                parent[neighbor] = vertex\n",
    "                to_visit.append(neighbor)"
   ]
  },
  {
   "cell_type": "code",
   "execution_count": 84,
   "metadata": {},
   "outputs": [],
   "source": [
    "State = namedtuple(\"State\", [\"man\", \"cabbage\", \"goat\", \"wolf\"])\n",
    "Location = Enum(\"Location\", [\"A\", \"B\"])"
   ]
  },
  {
   "cell_type": "code",
   "execution_count": 85,
   "metadata": {},
   "outputs": [],
   "source": [
    "start_state = State(\n",
    "    man = Location.A,\n",
    "    cabbage = Location.A,\n",
    "    goat = Location.A,\n",
    "    wolf = Location.A\n",
    ")\n",
    "\n",
    "goal_state = State(\n",
    "    man = Location.B,\n",
    "    cabbage = Location.B,\n",
    "    goat = Location.B,\n",
    "    wolf = Location.B\n",
    ")"
   ]
  },
  {
   "cell_type": "code",
   "execution_count": 86,
   "metadata": {},
   "outputs": [
    {
     "data": {
      "text/plain": [
       "True"
      ]
     },
     "execution_count": 86,
     "metadata": {},
     "output_type": "execute_result"
    }
   ],
   "source": [
    "goal_state\n",
    "goal_state.__eq__(goal_state) # check the equality"
   ]
  },
  {
   "cell_type": "code",
   "execution_count": 87,
   "metadata": {},
   "outputs": [],
   "source": [
    "def is_valid(state):\n",
    "    goat_eats_cabage = (\n",
    "        state.goat == state.cabbage\n",
    "        and state.man != state.goat\n",
    "    )\n",
    "\n",
    "    wolf_eats_goat = (\n",
    "        state.wolf == state.goat\n",
    "        and state.man != state.wolf\n",
    "    )\n",
    "\n",
    "    invalid = goat_eats_cabage or wolf_eats_goat\n",
    "    \n",
    "    return not invalid"
   ]
  },
  {
   "cell_type": "code",
   "execution_count": 94,
   "metadata": {},
   "outputs": [],
   "source": [
    "def next_states(state):\n",
    "    if state.man == Location.A:\n",
    "        other_side = Location.B\n",
    "    else:\n",
    "        other_side = Location.A\n",
    "\n",
    "    # print(state)\n",
    "    # print(other_side)\n",
    "\n",
    "    move = partial(state._replace, man = other_side)\n",
    "    \n",
    "    candidates = [move()]\n",
    "\n",
    "    # print(move())\n",
    "\n",
    "    for thing in [\"cabbage\", \"goat\", \"wolf\"]:\n",
    "        # print(getattr(state, thing), state.man)\n",
    "        if getattr(state, thing) == state.man:\n",
    "            candidates.append(move(**{thing: other_side}))\n",
    "            # print(other_side)\n",
    "            # print(other_side)\n",
    "            # print(move(**{thing: other_side}))\n",
    "            # print(candidates)\n",
    "\n",
    "    yield from filter(is_valid, candidates)"
   ]
  },
  {
   "cell_type": "code",
   "execution_count": 95,
   "metadata": {},
   "outputs": [],
   "source": [
    "path = BFS(\n",
    "    start = start_state,\n",
    "    is_goal = goal_state.__eq__,\n",
    "    get_neighbors = next_states\n",
    ")"
   ]
  },
  {
   "cell_type": "code",
   "execution_count": 96,
   "metadata": {},
   "outputs": [],
   "source": [
    "def describe_solutions(path):\n",
    "    for old, new in zip(path, path[1:]):\n",
    "        boat = [thing for thing in [\"man\", \"cabbage\", \"goat\", \"wolf\"]\n",
    "                if getattr(old, thing) != getattr(new, thing)    \n",
    "            ]\n",
    "        \n",
    "        print(old.man, \"to\", new.man, boat)"
   ]
  },
  {
   "cell_type": "code",
   "execution_count": 97,
   "metadata": {},
   "outputs": [
    {
     "name": "stdout",
     "output_type": "stream",
     "text": [
      "Location.A to Location.B ['man', 'goat']\n",
      "Location.B to Location.A ['man']\n",
      "Location.A to Location.B ['man', 'cabbage']\n",
      "Location.B to Location.A ['man', 'goat']\n",
      "Location.A to Location.B ['man', 'wolf']\n",
      "Location.B to Location.A ['man']\n",
      "Location.A to Location.B ['man', 'goat']\n"
     ]
    }
   ],
   "source": [
    "describe_solutions(path)"
   ]
  }
 ],
 "metadata": {
  "kernelspec": {
   "display_name": "Python 3",
   "language": "python",
   "name": "python3"
  },
  "language_info": {
   "codemirror_mode": {
    "name": "ipython",
    "version": 3
   },
   "file_extension": ".py",
   "mimetype": "text/x-python",
   "name": "python",
   "nbconvert_exporter": "python",
   "pygments_lexer": "ipython3",
   "version": "3.11.2"
  },
  "orig_nbformat": 4
 },
 "nbformat": 4,
 "nbformat_minor": 2
}
